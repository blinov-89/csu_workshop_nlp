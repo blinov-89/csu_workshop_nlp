{
 "cells": [
  {
   "cell_type": "code",
   "execution_count": 1,
   "metadata": {
    "colab": {
     "base_uri": "https://localhost:8080/"
    },
    "id": "AxoGsPzE5GWO",
    "outputId": "e73b6001-7022-425e-a93a-0ba8083c2cd0"
   },
   "outputs": [
    {
     "name": "stdout",
     "output_type": "stream",
     "text": [
      "Requirement already satisfied: datasets==2.1.0 in c:\\users\\manen\\anaconda3\\lib\\site-packages (2.1.0)\n",
      "Requirement already satisfied: seaborn==0.11.2 in c:\\users\\manen\\anaconda3\\lib\\site-packages (0.11.2)\n",
      "Requirement already satisfied: scikit-learn==1.0.2 in c:\\users\\manen\\anaconda3\\lib\\site-packages (1.0.2)\n",
      "Requirement already satisfied: gensim==4.2.0 in c:\\users\\manen\\anaconda3\\lib\\site-packages (4.2.0)\n",
      "Requirement already satisfied: nltk==3.7 in c:\\users\\manen\\anaconda3\\lib\\site-packages (3.7)\n",
      "Requirement already satisfied: pymystem3==0.2.0 in c:\\users\\manen\\anaconda3\\lib\\site-packages (0.2.0)\n",
      "Requirement already satisfied: pyLDAvis==3.3.1 in c:\\users\\manen\\anaconda3\\lib\\site-packages (3.3.1)\n",
      "Requirement already satisfied: pyarrow>=5.0.0 in c:\\users\\manen\\anaconda3\\lib\\site-packages (from datasets==2.1.0) (8.0.0)\n",
      "Requirement already satisfied: numpy>=1.17 in c:\\users\\manen\\anaconda3\\lib\\site-packages (from datasets==2.1.0) (1.19.2)\n",
      "Requirement already satisfied: requests>=2.19.0 in c:\\users\\manen\\anaconda3\\lib\\site-packages (from datasets==2.1.0) (2.24.0)\n",
      "Requirement already satisfied: packaging in c:\\users\\manen\\anaconda3\\lib\\site-packages (from datasets==2.1.0) (20.4)\n",
      "Requirement already satisfied: multiprocess in c:\\users\\manen\\anaconda3\\lib\\site-packages (from datasets==2.1.0) (0.70.13)\n",
      "Requirement already satisfied: dill in c:\\users\\manen\\anaconda3\\lib\\site-packages (from datasets==2.1.0) (0.3.5.1)\n",
      "Requirement already satisfied: xxhash in c:\\users\\manen\\anaconda3\\lib\\site-packages (from datasets==2.1.0) (3.0.0)\n",
      "Requirement already satisfied: fsspec[http]>=2021.05.0 in c:\\users\\manen\\anaconda3\\lib\\site-packages (from datasets==2.1.0) (2022.5.0)\n",
      "Requirement already satisfied: aiohttp in c:\\users\\manen\\anaconda3\\lib\\site-packages (from datasets==2.1.0) (3.8.1)\n",
      "Requirement already satisfied: huggingface-hub<1.0.0,>=0.1.0 in c:\\users\\manen\\anaconda3\\lib\\site-packages (from datasets==2.1.0) (0.7.0)\n",
      "Requirement already satisfied: pandas in c:\\users\\manen\\anaconda3\\lib\\site-packages (from datasets==2.1.0) (1.1.3)\n",
      "Requirement already satisfied: responses<0.19 in c:\\users\\manen\\anaconda3\\lib\\site-packages (from datasets==2.1.0) (0.18.0)\n",
      "Requirement already satisfied: tqdm>=4.62.1 in c:\\users\\manen\\anaconda3\\lib\\site-packages (from datasets==2.1.0) (4.64.0)\n",
      "Requirement already satisfied: scipy>=1.0 in c:\\users\\manen\\anaconda3\\lib\\site-packages (from seaborn==0.11.2) (1.5.2)\n",
      "Requirement already satisfied: matplotlib>=2.2 in c:\\users\\manen\\anaconda3\\lib\\site-packages (from seaborn==0.11.2) (3.3.2)\n",
      "Requirement already satisfied: joblib>=0.11 in c:\\users\\manen\\anaconda3\\lib\\site-packages (from scikit-learn==1.0.2) (0.17.0)\n",
      "Requirement already satisfied: threadpoolctl>=2.0.0 in c:\\users\\manen\\anaconda3\\lib\\site-packages (from scikit-learn==1.0.2) (2.1.0)\n",
      "Requirement already satisfied: smart-open>=1.8.1 in c:\\users\\manen\\anaconda3\\lib\\site-packages (from gensim==4.2.0) (5.1.0)\n",
      "Requirement already satisfied: Cython==0.29.28 in c:\\users\\manen\\anaconda3\\lib\\site-packages (from gensim==4.2.0) (0.29.28)\n",
      "Requirement already satisfied: click in c:\\users\\manen\\anaconda3\\lib\\site-packages (from nltk==3.7) (7.1.2)\n",
      "Requirement already satisfied: regex>=2021.8.3 in c:\\users\\manen\\anaconda3\\lib\\site-packages (from nltk==3.7) (2022.4.24)\n",
      "Requirement already satisfied: sklearn in c:\\users\\manen\\anaconda3\\lib\\site-packages (from pyLDAvis==3.3.1) (0.0)\n",
      "Requirement already satisfied: future in c:\\users\\manen\\anaconda3\\lib\\site-packages (from pyLDAvis==3.3.1) (0.18.2)\n",
      "Requirement already satisfied: numexpr in c:\\users\\manen\\anaconda3\\lib\\site-packages (from pyLDAvis==3.3.1) (2.7.1)\n",
      "Requirement already satisfied: jinja2 in c:\\users\\manen\\anaconda3\\lib\\site-packages (from pyLDAvis==3.3.1) (2.11.2)\n",
      "Requirement already satisfied: setuptools in c:\\users\\manen\\anaconda3\\lib\\site-packages (from pyLDAvis==3.3.1) (50.3.1.post20201107)\n",
      "Requirement already satisfied: funcy in c:\\users\\manen\\anaconda3\\lib\\site-packages (from pyLDAvis==3.3.1) (1.17)\n",
      "Requirement already satisfied: chardet<4,>=3.0.2 in c:\\users\\manen\\anaconda3\\lib\\site-packages (from requests>=2.19.0->datasets==2.1.0) (3.0.4)\n",
      "Requirement already satisfied: certifi>=2017.4.17 in c:\\users\\manen\\anaconda3\\lib\\site-packages (from requests>=2.19.0->datasets==2.1.0) (2020.6.20)\n",
      "Requirement already satisfied: urllib3!=1.25.0,!=1.25.1,<1.26,>=1.21.1 in c:\\users\\manen\\anaconda3\\lib\\site-packages (from requests>=2.19.0->datasets==2.1.0) (1.25.11)\n",
      "Requirement already satisfied: idna<3,>=2.5 in c:\\users\\manen\\anaconda3\\lib\\site-packages (from requests>=2.19.0->datasets==2.1.0) (2.10)\n",
      "Requirement already satisfied: pyparsing>=2.0.2 in c:\\users\\manen\\anaconda3\\lib\\site-packages (from packaging->datasets==2.1.0) (2.4.7)\n",
      "Requirement already satisfied: six in c:\\users\\manen\\anaconda3\\lib\\site-packages (from packaging->datasets==2.1.0) (1.15.0)\n",
      "Requirement already satisfied: yarl<2.0,>=1.0 in c:\\users\\manen\\anaconda3\\lib\\site-packages (from aiohttp->datasets==2.1.0) (1.7.2)\n",
      "Requirement already satisfied: aiosignal>=1.1.2 in c:\\users\\manen\\anaconda3\\lib\\site-packages (from aiohttp->datasets==2.1.0) (1.2.0)\n",
      "Requirement already satisfied: charset-normalizer<3.0,>=2.0 in c:\\users\\manen\\anaconda3\\lib\\site-packages (from aiohttp->datasets==2.1.0) (2.0.12)\n",
      "Requirement already satisfied: frozenlist>=1.1.1 in c:\\users\\manen\\anaconda3\\lib\\site-packages (from aiohttp->datasets==2.1.0) (1.3.0)\n",
      "Requirement already satisfied: attrs>=17.3.0 in c:\\users\\manen\\anaconda3\\lib\\site-packages (from aiohttp->datasets==2.1.0) (20.3.0)\n",
      "Requirement already satisfied: async-timeout<5.0,>=4.0.0a3 in c:\\users\\manen\\anaconda3\\lib\\site-packages (from aiohttp->datasets==2.1.0) (4.0.2)\n",
      "Requirement already satisfied: multidict<7.0,>=4.5 in c:\\users\\manen\\anaconda3\\lib\\site-packages (from aiohttp->datasets==2.1.0) (6.0.2)\n",
      "Requirement already satisfied: filelock in c:\\users\\manen\\anaconda3\\lib\\site-packages (from huggingface-hub<1.0.0,>=0.1.0->datasets==2.1.0) (3.0.12)\n",
      "Requirement already satisfied: typing-extensions>=3.7.4.3 in c:\\users\\manen\\anaconda3\\lib\\site-packages (from huggingface-hub<1.0.0,>=0.1.0->datasets==2.1.0) (3.7.4.3)\n",
      "Requirement already satisfied: pyyaml>=5.1 in c:\\users\\manen\\anaconda3\\lib\\site-packages (from huggingface-hub<1.0.0,>=0.1.0->datasets==2.1.0) (5.3.1)\n",
      "Requirement already satisfied: python-dateutil>=2.7.3 in c:\\users\\manen\\anaconda3\\lib\\site-packages (from pandas->datasets==2.1.0) (2.8.1)\n",
      "Requirement already satisfied: pytz>=2017.2 in c:\\users\\manen\\anaconda3\\lib\\site-packages (from pandas->datasets==2.1.0) (2020.1)\n",
      "Requirement already satisfied: colorama; platform_system == \"Windows\" in c:\\users\\manen\\anaconda3\\lib\\site-packages (from tqdm>=4.62.1->datasets==2.1.0) (0.4.4)\n",
      "Requirement already satisfied: cycler>=0.10 in c:\\users\\manen\\anaconda3\\lib\\site-packages (from matplotlib>=2.2->seaborn==0.11.2) (0.10.0)\n",
      "Requirement already satisfied: pillow>=6.2.0 in c:\\users\\manen\\anaconda3\\lib\\site-packages (from matplotlib>=2.2->seaborn==0.11.2) (8.0.1)\n",
      "Requirement already satisfied: kiwisolver>=1.0.1 in c:\\users\\manen\\anaconda3\\lib\\site-packages (from matplotlib>=2.2->seaborn==0.11.2) (1.3.0)\n",
      "Requirement already satisfied: MarkupSafe>=0.23 in c:\\users\\manen\\anaconda3\\lib\\site-packages (from jinja2->pyLDAvis==3.3.1) (1.1.1)\n"
     ]
    }
   ],
   "source": [
    "!pip install datasets==2.1.0 seaborn==0.11.2 scikit-learn==1.0.2 gensim==4.2.0 nltk==3.7 pymystem3==0.2.0 pyLDAvis==3.3.1"
   ]
  },
  {
   "cell_type": "code",
   "execution_count": 2,
   "metadata": {
    "colab": {
     "base_uri": "https://localhost:8080/"
    },
    "id": "54l25lu95rXS",
    "outputId": "5edb859e-8891-48c9-8f55-6482d3632b49"
   },
   "outputs": [
    {
     "name": "stderr",
     "output_type": "stream",
     "text": [
      "C:\\Users\\manen\\anaconda3\\lib\\runpy.py:127: RuntimeWarning: 'nltk.downloader' found in sys.modules after import of package 'nltk', but prior to execution of 'nltk.downloader'; this may result in unpredictable behaviour\n",
      "  warn(RuntimeWarning(msg))\n",
      "[nltk_data] Downloading package stopwords to\n",
      "[nltk_data]     C:\\Users\\manen\\AppData\\Roaming\\nltk_data...\n",
      "[nltk_data]   Package stopwords is already up-to-date!\n"
     ]
    }
   ],
   "source": [
    "!python -m nltk.downloader stopwords"
   ]
  },
  {
   "cell_type": "code",
   "execution_count": 3,
   "metadata": {
    "colab": {
     "base_uri": "https://localhost:8080/"
    },
    "id": "J3Ctzqmu6X4b",
    "outputId": "40871588-84bf-4607-870f-7d79296ccf6e"
   },
   "outputs": [
    {
     "name": "stderr",
     "output_type": "stream",
     "text": [
      "[nltk_data] Downloading package stopwords to\n",
      "[nltk_data]     C:\\Users\\manen\\AppData\\Roaming\\nltk_data...\n",
      "[nltk_data]   Package stopwords is already up-to-date!\n"
     ]
    },
    {
     "data": {
      "text/plain": [
       "True"
      ]
     },
     "execution_count": 3,
     "metadata": {},
     "output_type": "execute_result"
    }
   ],
   "source": [
    "from datasets import load_dataset\n",
    "from gensim import corpora\n",
    "from gensim.models.ldamodel import LdaModel\n",
    "from nltk.corpus import stopwords\n",
    "from nltk.stem.snowball import SnowballStemmer \n",
    "from pymystem3 import Mystem\n",
    "from sklearn.feature_extraction.text import TfidfVectorizer\n",
    "from sklearn.feature_extraction import DictVectorizer\n",
    "from sklearn.model_selection import train_test_split\n",
    "from sklearn.linear_model import LogisticRegression\n",
    "import nltk\n",
    "import numpy as np\n",
    "import pandas as pd\n",
    "import seaborn as sns\n",
    "from string import punctuation\n",
    "\n",
    "#Create lemmatizer and stopwords list\n",
    "mystem = Mystem() \n",
    "russian_stopwords = stopwords.words(\"russian\")\n",
    "nltk.download(\"stopwords\")"
   ]
  },
  {
   "cell_type": "code",
   "execution_count": 4,
   "metadata": {
    "colab": {
     "base_uri": "https://localhost:8080/",
     "height": 85,
     "referenced_widgets": [
      "bc3bbadad40645a59ba705380ccd4556",
      "ccc4c7b7daad4b2b8d0c07c58890edd6",
      "4babfc4972d64f90b92443b84360ae93",
      "1d0f94fe5ec840c188b442337f89e98d",
      "4a03e9ca96cc4736ad7491e4c96290b0",
      "f5774bb300c942c7a0b60e31adc4c271",
      "be60cd0e3ea5447b98766b68b154c878",
      "c26902f29f754af4bc18930d4f250394",
      "e3f97b57942e4d64be75a27763431203",
      "e85636e8d9cc4dcca54836a6ecc780ea",
      "454f4971acfa4e7ea35bac36829d8b7e"
     ]
    },
    "id": "mXDI7JDK66aS",
    "outputId": "df617c7f-761d-44e7-d939-95cdeb118de2"
   },
   "outputs": [
    {
     "name": "stderr",
     "output_type": "stream",
     "text": [
      "Using custom data configuration surdan--for_test_v3-ebe3ed24b6dbf0bb\n",
      "Reusing dataset parquet (C:\\Users\\manen\\.cache\\huggingface\\datasets\\parquet\\surdan--for_test_v3-ebe3ed24b6dbf0bb\\0.0.0\\0b6d5799bb726b24ad7fc7be720c170d8e497f575d02d47537de9a5bac074901)\n"
     ]
    },
    {
     "data": {
      "application/vnd.jupyter.widget-view+json": {
       "model_id": "66fb20d3ae8e4019828062df3cba0a42",
       "version_major": 2,
       "version_minor": 0
      },
      "text/plain": [
       "  0%|          | 0/3 [00:00<?, ?it/s]"
      ]
     },
     "metadata": {},
     "output_type": "display_data"
    }
   ],
   "source": [
    "dataset = load_dataset('surdan/nerel_short')"
   ]
  },
  {
   "cell_type": "code",
   "execution_count": 5,
   "metadata": {
    "colab": {
     "base_uri": "https://localhost:8080/"
    },
    "id": "kDRPYYBq7JzJ",
    "outputId": "4b69c168-c80d-41a1-e4d5-f2df1a5a28e5"
   },
   "outputs": [
    {
     "data": {
      "text/plain": [
       "DatasetDict({\n",
       "    test: Dataset({\n",
       "        features: ['sequences', 'ids'],\n",
       "        num_rows: 512\n",
       "    })\n",
       "    train: Dataset({\n",
       "        features: ['sequences', 'ids'],\n",
       "        num_rows: 2508\n",
       "    })\n",
       "    dev: Dataset({\n",
       "        features: ['sequences', 'ids'],\n",
       "        num_rows: 536\n",
       "    })\n",
       "})"
      ]
     },
     "execution_count": 5,
     "metadata": {},
     "output_type": "execute_result"
    }
   ],
   "source": [
    "dataset"
   ]
  },
  {
   "cell_type": "code",
   "execution_count": 6,
   "metadata": {
    "colab": {
     "base_uri": "https://localhost:8080/"
    },
    "id": "KIAyxkED7fMT",
    "outputId": "2d3b6d15-5e64-4c68-acc0-64c67e7c232d"
   },
   "outputs": [
    {
     "name": "stdout",
     "output_type": "stream",
     "text": [
      "['Ранее', 'было', 'приостановленно', 'вещание', 'телевизионной', 'служба', 'информационного', 'агентства', 'на', 'арабском', 'языке', 'из', 'Каира']\n",
      "[0, 0, 17, 18, 38, 39, 39, 39, 0, 25, 0, 0, 5]\n"
     ]
    }
   ],
   "source": [
    "i = np.random.randint(0, len(dataset['train']))\n",
    "print(dataset['train'][i]['sequences'])\n",
    "print(dataset['train'][i]['ids'])"
   ]
  },
  {
   "cell_type": "code",
   "execution_count": 7,
   "metadata": {
    "id": "vIHxqcXMXcUN"
   },
   "outputs": [],
   "source": [
    "X_train = dataset['train']['sequences']\n",
    "y_train = dataset['train']['ids']\n",
    "\n",
    "X_test = dataset['test']['sequences']\n",
    "y_test = dataset['test']['ids']\n",
    "\n",
    "X_val = dataset['dev']['sequences']\n",
    "y_val = dataset['dev']['ids']"
   ]
  },
  {
   "cell_type": "code",
   "execution_count": 8,
   "metadata": {
    "colab": {
     "base_uri": "https://localhost:8080/"
    },
    "id": "48K7OmZx7giR",
    "outputId": "a010f3a4-fa7f-4d38-e660-82ec1239cd02"
   },
   "outputs": [
    {
     "data": {
      "text/plain": [
       "['и',\n",
       " 'в',\n",
       " 'во',\n",
       " 'не',\n",
       " 'что',\n",
       " 'он',\n",
       " 'на',\n",
       " 'я',\n",
       " 'с',\n",
       " 'со',\n",
       " 'как',\n",
       " 'а',\n",
       " 'то',\n",
       " 'все',\n",
       " 'она',\n",
       " 'так',\n",
       " 'его',\n",
       " 'но',\n",
       " 'да',\n",
       " 'ты',\n",
       " 'к',\n",
       " 'у',\n",
       " 'же',\n",
       " 'вы',\n",
       " 'за',\n",
       " 'бы',\n",
       " 'по',\n",
       " 'только',\n",
       " 'ее',\n",
       " 'мне',\n",
       " 'было',\n",
       " 'вот',\n",
       " 'от',\n",
       " 'меня',\n",
       " 'еще',\n",
       " 'нет',\n",
       " 'о',\n",
       " 'из',\n",
       " 'ему',\n",
       " 'теперь',\n",
       " 'когда',\n",
       " 'даже',\n",
       " 'ну',\n",
       " 'вдруг',\n",
       " 'ли',\n",
       " 'если',\n",
       " 'уже',\n",
       " 'или',\n",
       " 'ни',\n",
       " 'быть',\n",
       " 'был',\n",
       " 'него',\n",
       " 'до',\n",
       " 'вас',\n",
       " 'нибудь',\n",
       " 'опять',\n",
       " 'уж',\n",
       " 'вам',\n",
       " 'ведь',\n",
       " 'там',\n",
       " 'потом',\n",
       " 'себя',\n",
       " 'ничего',\n",
       " 'ей',\n",
       " 'может',\n",
       " 'они',\n",
       " 'тут',\n",
       " 'где',\n",
       " 'есть',\n",
       " 'надо',\n",
       " 'ней',\n",
       " 'для',\n",
       " 'мы',\n",
       " 'тебя',\n",
       " 'их',\n",
       " 'чем',\n",
       " 'была',\n",
       " 'сам',\n",
       " 'чтоб',\n",
       " 'без',\n",
       " 'будто',\n",
       " 'чего',\n",
       " 'раз',\n",
       " 'тоже',\n",
       " 'себе',\n",
       " 'под',\n",
       " 'будет',\n",
       " 'ж',\n",
       " 'тогда',\n",
       " 'кто',\n",
       " 'этот',\n",
       " 'того',\n",
       " 'потому',\n",
       " 'этого',\n",
       " 'какой',\n",
       " 'совсем',\n",
       " 'ним',\n",
       " 'здесь',\n",
       " 'этом',\n",
       " 'один',\n",
       " 'почти',\n",
       " 'мой',\n",
       " 'тем',\n",
       " 'чтобы',\n",
       " 'нее',\n",
       " 'сейчас',\n",
       " 'были',\n",
       " 'куда',\n",
       " 'зачем',\n",
       " 'всех',\n",
       " 'никогда',\n",
       " 'можно',\n",
       " 'при',\n",
       " 'наконец',\n",
       " 'два',\n",
       " 'об',\n",
       " 'другой',\n",
       " 'хоть',\n",
       " 'после',\n",
       " 'над',\n",
       " 'больше',\n",
       " 'тот',\n",
       " 'через',\n",
       " 'эти',\n",
       " 'нас',\n",
       " 'про',\n",
       " 'всего',\n",
       " 'них',\n",
       " 'какая',\n",
       " 'много',\n",
       " 'разве',\n",
       " 'три',\n",
       " 'эту',\n",
       " 'моя',\n",
       " 'впрочем',\n",
       " 'хорошо',\n",
       " 'свою',\n",
       " 'этой',\n",
       " 'перед',\n",
       " 'иногда',\n",
       " 'лучше',\n",
       " 'чуть',\n",
       " 'том',\n",
       " 'нельзя',\n",
       " 'такой',\n",
       " 'им',\n",
       " 'более',\n",
       " 'всегда',\n",
       " 'конечно',\n",
       " 'всю',\n",
       " 'между']"
      ]
     },
     "execution_count": 8,
     "metadata": {},
     "output_type": "execute_result"
    }
   ],
   "source": [
    "russian_stopwords"
   ]
  },
  {
   "cell_type": "markdown",
   "metadata": {
    "id": "UYLLRsb9YwRG"
   },
   "source": [
    "## **Стемминг**"
   ]
  },
  {
   "cell_type": "code",
   "execution_count": 9,
   "metadata": {
    "id": "Sd26x3AcXK89"
   },
   "outputs": [],
   "source": [
    "stemmer = SnowballStemmer('russian')"
   ]
  },
  {
   "cell_type": "code",
   "execution_count": 10,
   "metadata": {
    "colab": {
     "base_uri": "https://localhost:8080/"
    },
    "id": "y0aU25DjCZKz",
    "outputId": "4bf1ac83-a7da-46e6-d0f8-ecaa6f448c78"
   },
   "outputs": [
    {
     "data": {
      "text/plain": [
       "['Виталий',\n",
       " 'Кличко',\n",
       " 'хочет',\n",
       " 'стать',\n",
       " 'мэром',\n",
       " 'Киева',\n",
       " 'Бывший',\n",
       " 'чемпион',\n",
       " 'мира',\n",
       " 'по',\n",
       " 'боксу',\n",
       " 'в',\n",
       " 'тяжёлом',\n",
       " 'весе',\n",
       " 'Виталий',\n",
       " 'Кличко',\n",
       " 'в',\n",
       " 'марте',\n",
       " 'будет',\n",
       " 'баллотироваться',\n",
       " 'на',\n",
       " 'пост',\n",
       " 'мэра',\n",
       " 'столицы',\n",
       " 'Украины',\n",
       " 'Киева']"
      ]
     },
     "execution_count": 10,
     "metadata": {},
     "output_type": "execute_result"
    }
   ],
   "source": [
    "doc = X_train[0]\n",
    "doc"
   ]
  },
  {
   "cell_type": "code",
   "execution_count": 11,
   "metadata": {
    "colab": {
     "base_uri": "https://localhost:8080/",
     "height": 36
    },
    "id": "JgPK5JWKCZTD",
    "outputId": "4b911e1c-9a89-4e4c-ade2-31a63d5d1759"
   },
   "outputs": [
    {
     "data": {
      "text/plain": [
       "'витал кличк хочет стат мэр киев бывш чемпион мир по бокс в тяжел вес витал кличк в март будет баллотирова на пост мэр столиц украин киев'"
      ]
     },
     "execution_count": 11,
     "metadata": {},
     "output_type": "execute_result"
    }
   ],
   "source": [
    "\" \".join([stemmer.stem(token) for token in doc])"
   ]
  },
  {
   "cell_type": "code",
   "execution_count": 12,
   "metadata": {
    "colab": {
     "base_uri": "https://localhost:8080/"
    },
    "id": "6ZvEJBzLWNPN",
    "outputId": "a1741fc5-37e9-46c3-cdd3-0b6e3099e155"
   },
   "outputs": [
    {
     "name": "stdout",
     "output_type": "stream",
     "text": [
      "Wall time: 2.9 s\n"
     ]
    }
   ],
   "source": [
    "%%time\n",
    "X_train_stem = [[stemmer.stem(token) for token in doc] for doc in X_train]"
   ]
  },
  {
   "cell_type": "code",
   "execution_count": 13,
   "metadata": {
    "colab": {
     "base_uri": "https://localhost:8080/"
    },
    "id": "W2rgf6yXWael",
    "outputId": "26528173-cab4-492d-d39d-f09d30fde007"
   },
   "outputs": [
    {
     "data": {
      "text/plain": [
       "['витал',\n",
       " 'кличк',\n",
       " 'хочет',\n",
       " 'стат',\n",
       " 'мэр',\n",
       " 'киев',\n",
       " 'бывш',\n",
       " 'чемпион',\n",
       " 'мир',\n",
       " 'по',\n",
       " 'бокс',\n",
       " 'в',\n",
       " 'тяжел',\n",
       " 'вес',\n",
       " 'витал',\n",
       " 'кличк',\n",
       " 'в',\n",
       " 'март',\n",
       " 'будет',\n",
       " 'баллотирова',\n",
       " 'на',\n",
       " 'пост',\n",
       " 'мэр',\n",
       " 'столиц',\n",
       " 'украин',\n",
       " 'киев']"
      ]
     },
     "execution_count": 13,
     "metadata": {},
     "output_type": "execute_result"
    }
   ],
   "source": [
    "X_train_stem[0]"
   ]
  },
  {
   "cell_type": "code",
   "execution_count": 14,
   "metadata": {
    "colab": {
     "base_uri": "https://localhost:8080/"
    },
    "id": "FGUPy_bfAiAc",
    "outputId": "af16302e-89cf-448b-c841-107ae755f93c"
   },
   "outputs": [
    {
     "name": "stdout",
     "output_type": "stream",
     "text": [
      "Количество документов: 2508\n",
      "Количество слов: 81072\n",
      "Количество уникальных слов: 10797\n"
     ]
    }
   ],
   "source": [
    "print('Количество документов:', len(X_train_stem))\n",
    "print('Количество слов:', len([token for doc in X_train_stem for token in doc]))\n",
    "print('Количество уникальных слов:', len(set([token for doc in X_train_stem for token in doc])))"
   ]
  },
  {
   "cell_type": "code",
   "execution_count": 15,
   "metadata": {
    "colab": {
     "base_uri": "https://localhost:8080/"
    },
    "id": "5aXQ4MMr9GFB",
    "outputId": "57ffbb2a-ac7a-4cde-ce10-fb339605ef15"
   },
   "outputs": [
    {
     "name": "stdout",
     "output_type": "stream",
     "text": [
      "Wall time: 2.41 s\n"
     ]
    }
   ],
   "source": [
    "%%time\n",
    "X_train_stem_stop = [[stemmer.stem(token) for token in doc if token not in russian_stopwords] for doc in X_train]"
   ]
  },
  {
   "cell_type": "code",
   "execution_count": 16,
   "metadata": {
    "colab": {
     "base_uri": "https://localhost:8080/"
    },
    "id": "6K2rhooz9znA",
    "outputId": "059db073-50df-4841-ce58-d6f981a63e7b"
   },
   "outputs": [
    {
     "data": {
      "text/plain": [
       "['витал',\n",
       " 'кличк',\n",
       " 'хочет',\n",
       " 'стат',\n",
       " 'мэр',\n",
       " 'киев',\n",
       " 'бывш',\n",
       " 'чемпион',\n",
       " 'мир',\n",
       " 'бокс',\n",
       " 'тяжел',\n",
       " 'вес',\n",
       " 'витал',\n",
       " 'кличк',\n",
       " 'март',\n",
       " 'баллотирова',\n",
       " 'пост',\n",
       " 'мэр',\n",
       " 'столиц',\n",
       " 'украин',\n",
       " 'киев']"
      ]
     },
     "execution_count": 16,
     "metadata": {},
     "output_type": "execute_result"
    }
   ],
   "source": [
    "X_train_stem_stop[0]"
   ]
  },
  {
   "cell_type": "code",
   "execution_count": 17,
   "metadata": {
    "colab": {
     "base_uri": "https://localhost:8080/"
    },
    "id": "XsP58qDwap5m",
    "outputId": "54793be9-7908-4b83-822d-9ffe7bb0033e"
   },
   "outputs": [
    {
     "name": "stdout",
     "output_type": "stream",
     "text": [
      "Количество документов: 2508\n",
      "Количество слов: 64655\n",
      "Количество уникальных слов: 10779\n"
     ]
    }
   ],
   "source": [
    "print('Количество документов:', len(X_train_stem_stop))\n",
    "print('Количество слов:', len([token for doc in X_train_stem_stop for token in doc]))\n",
    "print('Количество уникальных слов:', len(set([token for doc in X_train_stem_stop for token in doc])))"
   ]
  },
  {
   "cell_type": "markdown",
   "metadata": {
    "id": "aA7qK0JDbOSG"
   },
   "source": [
    "# **Лемматизация**"
   ]
  },
  {
   "cell_type": "code",
   "execution_count": 18,
   "metadata": {
    "colab": {
     "base_uri": "https://localhost:8080/"
    },
    "id": "YVaxhpDt9whm",
    "outputId": "c61da578-89f9-4694-f087-6ae16294a20f"
   },
   "outputs": [
    {
     "name": "stdout",
     "output_type": "stream",
     "text": [
      "Requirement already satisfied: pymorphy2 in c:\\users\\manen\\anaconda3\\lib\\site-packages (0.9.1)\n",
      "Requirement already satisfied: pymorphy2-dicts-ru<3.0,>=2.4 in c:\\users\\manen\\anaconda3\\lib\\site-packages (from pymorphy2) (2.4.417127.4579844)\n",
      "Requirement already satisfied: dawg-python>=0.7.1 in c:\\users\\manen\\anaconda3\\lib\\site-packages (from pymorphy2) (0.7.2)\n",
      "Requirement already satisfied: docopt>=0.6 in c:\\users\\manen\\anaconda3\\lib\\site-packages (from pymorphy2) (0.6.2)\n"
     ]
    }
   ],
   "source": [
    "!pip install pymorphy2"
   ]
  },
  {
   "cell_type": "code",
   "execution_count": 19,
   "metadata": {
    "id": "YcloPuU092ML"
   },
   "outputs": [],
   "source": [
    "import pymorphy2\n",
    "morph = pymorphy2.MorphAnalyzer()"
   ]
  },
  {
   "cell_type": "code",
   "execution_count": 20,
   "metadata": {
    "colab": {
     "base_uri": "https://localhost:8080/"
    },
    "id": "SOecJB_I_EPp",
    "outputId": "9f40c439-ac92-40da-b93b-13442c547593"
   },
   "outputs": [
    {
     "data": {
      "text/plain": [
       "['Виталий',\n",
       " 'Кличко',\n",
       " 'хочет',\n",
       " 'стать',\n",
       " 'мэром',\n",
       " 'Киева',\n",
       " 'Бывший',\n",
       " 'чемпион',\n",
       " 'мира',\n",
       " 'по',\n",
       " 'боксу',\n",
       " 'в',\n",
       " 'тяжёлом',\n",
       " 'весе',\n",
       " 'Виталий',\n",
       " 'Кличко',\n",
       " 'в',\n",
       " 'марте',\n",
       " 'будет',\n",
       " 'баллотироваться',\n",
       " 'на',\n",
       " 'пост',\n",
       " 'мэра',\n",
       " 'столицы',\n",
       " 'Украины',\n",
       " 'Киева']"
      ]
     },
     "execution_count": 20,
     "metadata": {},
     "output_type": "execute_result"
    }
   ],
   "source": [
    "doc"
   ]
  },
  {
   "cell_type": "code",
   "execution_count": 21,
   "metadata": {
    "colab": {
     "base_uri": "https://localhost:8080/"
    },
    "id": "9TKkztlbK7fK",
    "outputId": "eb5fd8fd-ed43-4b41-a55d-0bc2d003421c"
   },
   "outputs": [
    {
     "data": {
      "text/plain": [
       "['виталий',\n",
       " 'кличко',\n",
       " 'хотеть',\n",
       " 'стать',\n",
       " 'мэр',\n",
       " 'киев',\n",
       " 'бывший',\n",
       " 'чемпион',\n",
       " 'мир',\n",
       " 'по',\n",
       " 'бокс',\n",
       " 'в',\n",
       " 'тяжёлый',\n",
       " 'вес',\n",
       " 'виталий',\n",
       " 'кличко',\n",
       " 'в',\n",
       " 'март',\n",
       " 'быть',\n",
       " 'баллотироваться',\n",
       " 'на',\n",
       " 'пост',\n",
       " 'мэр',\n",
       " 'столица',\n",
       " 'украина',\n",
       " 'киев']"
      ]
     },
     "execution_count": 21,
     "metadata": {},
     "output_type": "execute_result"
    }
   ],
   "source": [
    "[morph.parse(token)[0].normal_form for token in doc]"
   ]
  },
  {
   "cell_type": "code",
   "execution_count": 22,
   "metadata": {
    "colab": {
     "base_uri": "https://localhost:8080/"
    },
    "id": "f6UCeKsobmDW",
    "outputId": "1de4e029-5555-4e4b-c154-983557fa6215"
   },
   "outputs": [
    {
     "data": {
      "text/plain": [
       "['виталий',\n",
       " 'кличко',\n",
       " 'хотеть',\n",
       " 'стать',\n",
       " 'мэр',\n",
       " 'киев',\n",
       " 'бывший',\n",
       " 'чемпион',\n",
       " 'мир',\n",
       " 'бокс',\n",
       " 'тяжёлый',\n",
       " 'вес',\n",
       " 'виталий',\n",
       " 'кличко',\n",
       " 'март',\n",
       " 'баллотироваться',\n",
       " 'пост',\n",
       " 'мэр',\n",
       " 'столица',\n",
       " 'украина',\n",
       " 'киев']"
      ]
     },
     "execution_count": 22,
     "metadata": {},
     "output_type": "execute_result"
    }
   ],
   "source": [
    "[morph.parse(token)[0].normal_form for token in doc if token not in russian_stopwords]"
   ]
  },
  {
   "cell_type": "code",
   "execution_count": 23,
   "metadata": {
    "colab": {
     "base_uri": "https://localhost:8080/"
    },
    "id": "OOrrPWKqc91G",
    "outputId": "95d7fbfa-48e3-471a-e053-768ec711c047"
   },
   "outputs": [
    {
     "name": "stdout",
     "output_type": "stream",
     "text": [
      "Wall time: 15.6 s\n"
     ]
    }
   ],
   "source": [
    "%%time\n",
    "X_train_lem = [[morph.parse(token)[0].normal_form for token in doc] for doc in X_train]"
   ]
  },
  {
   "cell_type": "code",
   "execution_count": 24,
   "metadata": {
    "colab": {
     "base_uri": "https://localhost:8080/"
    },
    "id": "ANVEF36RdU5X",
    "outputId": "c085a61f-326b-42b9-9842-f5b86d82653a"
   },
   "outputs": [
    {
     "data": {
      "text/plain": [
       "['виталий',\n",
       " 'кличко',\n",
       " 'хотеть',\n",
       " 'стать',\n",
       " 'мэр',\n",
       " 'киев',\n",
       " 'бывший',\n",
       " 'чемпион',\n",
       " 'мир',\n",
       " 'по',\n",
       " 'бокс',\n",
       " 'в',\n",
       " 'тяжёлый',\n",
       " 'вес',\n",
       " 'виталий',\n",
       " 'кличко',\n",
       " 'в',\n",
       " 'март',\n",
       " 'быть',\n",
       " 'баллотироваться',\n",
       " 'на',\n",
       " 'пост',\n",
       " 'мэр',\n",
       " 'столица',\n",
       " 'украина',\n",
       " 'киев']"
      ]
     },
     "execution_count": 24,
     "metadata": {},
     "output_type": "execute_result"
    }
   ],
   "source": [
    "X_train_lem[0]"
   ]
  },
  {
   "cell_type": "code",
   "execution_count": 25,
   "metadata": {
    "colab": {
     "base_uri": "https://localhost:8080/"
    },
    "id": "SME_IbHJdXwH",
    "outputId": "aff697b2-be06-425e-d5da-50148d21b35c"
   },
   "outputs": [
    {
     "name": "stdout",
     "output_type": "stream",
     "text": [
      "Количество документов: 2508\n",
      "Количество слов: 81072\n",
      "Количество уникальных слов: 10880\n"
     ]
    }
   ],
   "source": [
    "print('Количество документов:', len(X_train_lem))\n",
    "print('Количество слов:', len([token for doc in X_train_lem for token in doc]))\n",
    "print('Количество уникальных слов:', len(set([token for doc in X_train_lem for token in doc])))"
   ]
  },
  {
   "cell_type": "code",
   "execution_count": 26,
   "metadata": {
    "colab": {
     "base_uri": "https://localhost:8080/"
    },
    "id": "qkq6ybG0diNO",
    "outputId": "e9fdb6a4-011b-4e57-b04b-17ba1d3d1686"
   },
   "outputs": [
    {
     "name": "stdout",
     "output_type": "stream",
     "text": [
      "Wall time: 9.42 s\n"
     ]
    }
   ],
   "source": [
    "%%time\n",
    "X_train_lem_stop = [[morph.parse(token)[0].normal_form for token in doc if token not in russian_stopwords] for doc in X_train]"
   ]
  },
  {
   "cell_type": "code",
   "execution_count": 27,
   "metadata": {
    "colab": {
     "base_uri": "https://localhost:8080/"
    },
    "id": "aIjJZGYmdrn2",
    "outputId": "1c8738cb-eb00-4062-bcc8-6b7e03720be8"
   },
   "outputs": [
    {
     "data": {
      "text/plain": [
       "['виталий',\n",
       " 'кличко',\n",
       " 'хотеть',\n",
       " 'стать',\n",
       " 'мэр',\n",
       " 'киев',\n",
       " 'бывший',\n",
       " 'чемпион',\n",
       " 'мир',\n",
       " 'бокс',\n",
       " 'тяжёлый',\n",
       " 'вес',\n",
       " 'виталий',\n",
       " 'кличко',\n",
       " 'март',\n",
       " 'баллотироваться',\n",
       " 'пост',\n",
       " 'мэр',\n",
       " 'столица',\n",
       " 'украина',\n",
       " 'киев']"
      ]
     },
     "execution_count": 27,
     "metadata": {},
     "output_type": "execute_result"
    }
   ],
   "source": [
    "X_train_lem_stop[0]"
   ]
  },
  {
   "cell_type": "code",
   "execution_count": 28,
   "metadata": {
    "colab": {
     "base_uri": "https://localhost:8080/"
    },
    "id": "5KGjpeVOd8Sv",
    "outputId": "57082cab-3092-4093-ab39-e817a18f43af"
   },
   "outputs": [
    {
     "name": "stdout",
     "output_type": "stream",
     "text": [
      "Количество документов: 2508\n",
      "Количество слов: 64655\n",
      "Количество уникальных слов: 10865\n"
     ]
    }
   ],
   "source": [
    "print('Количество документов:', len(X_train_lem_stop))\n",
    "print('Количество слов:', len([token for doc in X_train_lem_stop for token in doc]))\n",
    "print('Количество уникальных слов:', len(set([token for doc in X_train_lem_stop for token in doc])))"
   ]
  },
  {
   "cell_type": "code",
   "execution_count": 29,
   "metadata": {
    "id": "qBTlINWAgL53"
   },
   "outputs": [],
   "source": [
    "# Лемматизация с кэшем"
   ]
  },
  {
   "cell_type": "code",
   "execution_count": 30,
   "metadata": {
    "colab": {
     "base_uri": "https://localhost:8080/"
    },
    "id": "BKjF0gk_Fm9b",
    "outputId": "22231898-86a1-45a5-cb6d-3a1f8c78db24"
   },
   "outputs": [
    {
     "name": "stdout",
     "output_type": "stream",
     "text": [
      "Wall time: 2.8 s\n"
     ]
    }
   ],
   "source": [
    "%%time\n",
    "X_train_lem_cache = []\n",
    "cache = {}\n",
    "\n",
    "for doc in X_train:\n",
    "  for token in doc:\n",
    "    if token not in cache:\n",
    "      cache[token] = morph.parse(token)[0].normal_form\n",
    "  doc = [cache[token] for token in doc]\n",
    "  X_train_lem_cache.append(doc)"
   ]
  },
  {
   "cell_type": "code",
   "execution_count": 31,
   "metadata": {
    "colab": {
     "base_uri": "https://localhost:8080/"
    },
    "id": "r25qPpkUfpgW",
    "outputId": "2c000412-86e3-4341-fc4b-d22ae861c33b"
   },
   "outputs": [
    {
     "name": "stdout",
     "output_type": "stream",
     "text": [
      "Количество документов: 2508\n",
      "Количество слов: 81072\n",
      "Количество уникальных слов: 10880\n"
     ]
    }
   ],
   "source": [
    "print('Количество документов:', len(X_train_lem_cache))\n",
    "print('Количество слов:', len([token for doc in X_train_lem_cache for token in doc]))\n",
    "print('Количество уникальных слов:', len(set([token for doc in X_train_lem_cache for token in doc])))"
   ]
  },
  {
   "cell_type": "code",
   "execution_count": 32,
   "metadata": {
    "colab": {
     "base_uri": "https://localhost:8080/"
    },
    "id": "oTvX9bf2KpmM",
    "outputId": "52cefb41-856f-4d8f-ec82-0de8beac3165"
   },
   "outputs": [
    {
     "name": "stdout",
     "output_type": "stream",
     "text": [
      "Wall time: 2.89 s\n"
     ]
    }
   ],
   "source": [
    "%%time\n",
    "X_train_lem_cache_stop = []\n",
    "cache = {}\n",
    "\n",
    "for doc in X_train:\n",
    "  for token in doc:\n",
    "    if token not in cache:\n",
    "      cache[token] = morph.parse(token)[0].normal_form\n",
    "  doc = [cache[token] for token in doc if token not in russian_stopwords]\n",
    "  X_train_lem_cache_stop.append(doc)"
   ]
  },
  {
   "cell_type": "code",
   "execution_count": 33,
   "metadata": {
    "colab": {
     "base_uri": "https://localhost:8080/"
    },
    "id": "WBtaOB4XgBL_",
    "outputId": "c688f58d-0570-4937-e2b4-7b12ac3e6783"
   },
   "outputs": [
    {
     "name": "stdout",
     "output_type": "stream",
     "text": [
      "Количество документов: 2508\n",
      "Количество слов: 64655\n",
      "Количество уникальных слов: 10865\n"
     ]
    }
   ],
   "source": [
    "print('Количество документов:', len(X_train_lem_cache_stop))\n",
    "print('Количество слов:', len([token for doc in X_train_lem_cache_stop for token in doc]))\n",
    "print('Количество уникальных слов:', len(set([token for doc in X_train_lem_cache_stop for token in doc])))"
   ]
  },
  {
   "cell_type": "markdown",
   "metadata": {
    "id": "vMO0BWEZhYmA"
   },
   "source": [
    "# **Выкинем стоп-слова и соответствующие метки**"
   ]
  },
  {
   "cell_type": "code",
   "execution_count": 34,
   "metadata": {
    "colab": {
     "base_uri": "https://localhost:8080/"
    },
    "id": "1ilKzkUfM9EM",
    "outputId": "bfa64473-2eb3-4d14-f146-f71b615a8d19"
   },
   "outputs": [
    {
     "name": "stdout",
     "output_type": "stream",
     "text": [
      "Wall time: 9.52 s\n"
     ]
    }
   ],
   "source": [
    "%%time\n",
    "X_train_both = []\n",
    "y_train_both = []\n",
    "for i, d in enumerate(X_train):\n",
    "  doc =[]\n",
    "  labels = []\n",
    "  for j, t in enumerate(d):\n",
    "    if t not in russian_stopwords:\n",
    "      doc.append(morph.parse(X_train[i][j])[0].normal_form)\n",
    "      labels.append(y_train[i][j])\n",
    "  X_train_both.append(doc)\n",
    "  y_train_both.append(labels)"
   ]
  },
  {
   "cell_type": "code",
   "execution_count": 35,
   "metadata": {
    "colab": {
     "base_uri": "https://localhost:8080/"
    },
    "id": "rbaraGIRnB74",
    "outputId": "452a014c-c158-4b80-a1d4-18df76f7c8dd"
   },
   "outputs": [
    {
     "data": {
      "text/plain": [
       "21"
      ]
     },
     "execution_count": 35,
     "metadata": {},
     "output_type": "execute_result"
    }
   ],
   "source": [
    "len(X_train_both[0])"
   ]
  },
  {
   "cell_type": "code",
   "execution_count": 36,
   "metadata": {
    "colab": {
     "base_uri": "https://localhost:8080/"
    },
    "id": "kpc9XdwIM9G0",
    "outputId": "58f43ccd-c12b-4a87-c00e-2733147107ed"
   },
   "outputs": [
    {
     "data": {
      "text/plain": [
       "21"
      ]
     },
     "execution_count": 36,
     "metadata": {},
     "output_type": "execute_result"
    }
   ],
   "source": [
    "len(y_train_both[0])"
   ]
  },
  {
   "cell_type": "code",
   "execution_count": 37,
   "metadata": {
    "colab": {
     "base_uri": "https://localhost:8080/"
    },
    "id": "9I5RoDuFM9L8",
    "outputId": "21fa0bd9-ff29-451c-eb56-bcfb355fad50"
   },
   "outputs": [
    {
     "name": "stdout",
     "output_type": "stream",
     "text": [
      "Количество документов: 2508\n",
      "Количество слов: 64655\n",
      "Количество уникальных слов: 10865\n"
     ]
    }
   ],
   "source": [
    "print('Количество документов:', len(X_train_both))\n",
    "print('Количество слов:', len([token for doc in X_train_both for token in doc]))\n",
    "print('Количество уникальных слов:', len(set([token for doc in X_train_both for token in doc])))"
   ]
  },
  {
   "cell_type": "code",
   "execution_count": 38,
   "metadata": {
    "colab": {
     "base_uri": "https://localhost:8080/"
    },
    "id": "S9ELiaNGM9Ol",
    "outputId": "a8cfe41b-db5d-49b3-9a26-a69ad021fe56"
   },
   "outputs": [
    {
     "name": "stdout",
     "output_type": "stream",
     "text": [
      "Количество меток: 64655\n"
     ]
    }
   ],
   "source": [
    "print('Количество меток:', len([token for doc in y_train_both for token in doc]))"
   ]
  },
  {
   "cell_type": "markdown",
   "metadata": {
    "id": "oXIozdyhpAOg"
   },
   "source": [
    "# **Визуализация**"
   ]
  },
  {
   "cell_type": "code",
   "execution_count": 39,
   "metadata": {
    "colab": {
     "base_uri": "https://localhost:8080/",
     "height": 334
    },
    "id": "lAJOfRoxq-xB",
    "outputId": "bd8a662c-f2ab-41bb-cdb9-68b04cf37235"
   },
   "outputs": [
    {
     "name": "stderr",
     "output_type": "stream",
     "text": [
      "C:\\Users\\manen\\anaconda3\\lib\\site-packages\\seaborn\\distributions.py:2619: FutureWarning: `distplot` is a deprecated function and will be removed in a future version. Please adapt your code to use either `displot` (a figure-level function with similar flexibility) or `histplot` (an axes-level function for histograms).\n",
      "  warnings.warn(msg, FutureWarning)\n"
     ]
    },
    {
     "data": {
      "text/plain": [
       "<AxesSubplot:xlabel='Количество слов в документе'>"
      ]
     },
     "execution_count": 39,
     "metadata": {},
     "output_type": "execute_result"
    },
    {
     "data": {
      "image/png": "[encoded data removed]",
      "text/plain": [
       "<Figure size 432x288 with 1 Axes>"
      ]
     },
     "metadata": {
      "needs_background": "light"
     },
     "output_type": "display_data"
    }
   ],
   "source": [
    "sns.distplot(pd.Series([len(doc) for doc in X_train_both], name='Количество слов в документе'),\n",
    "             kde=False)"
   ]
  },
  {
   "cell_type": "code",
   "execution_count": 40,
   "metadata": {
    "colab": {
     "base_uri": "https://localhost:8080/"
    },
    "id": "W5TZocFlpQSY",
    "outputId": "557008a9-bd1f-46fe-b102-4e62535ca40b"
   },
   "outputs": [
    {
     "data": {
      "text/plain": [
       "58"
      ]
     },
     "execution_count": 40,
     "metadata": {},
     "output_type": "execute_result"
    }
   ],
   "source": [
    "pd.Series([token for doc in y_train_both for token in doc]).nunique()"
   ]
  },
  {
   "cell_type": "code",
   "execution_count": 41,
   "metadata": {
    "colab": {
     "base_uri": "https://localhost:8080/",
     "height": 320
    },
    "id": "7z3--APCNJ0j",
    "outputId": "7708e030-0db2-464b-de01-de301e37442a"
   },
   "outputs": [
    {
     "data": {
      "text/plain": [
       "<AxesSubplot:>"
      ]
     },
     "execution_count": 41,
     "metadata": {},
     "output_type": "execute_result"
    },
    {
     "data": {
      "image/png": "[encoded data removed]",
      "text/plain": [
       "<Figure size 432x288 with 1 Axes>"
      ]
     },
     "metadata": {
      "needs_background": "light"
     },
     "output_type": "display_data"
    }
   ],
   "source": [
    "sns.distplot(pd.Series([token for doc in y_train_both for token in doc]), kde=False)"
   ]
  },
  {
   "cell_type": "code",
   "execution_count": 42,
   "metadata": {
    "colab": {
     "base_uri": "https://localhost:8080/"
    },
    "id": "imYfakfVpyRJ",
    "outputId": "2fcddd07-e74d-4ca4-a3f8-18155a4cc255"
   },
   "outputs": [
    {
     "data": {
      "text/plain": [
       "0     31563\n",
       "12     3675\n",
       "44     3581\n",
       "48     2733\n",
       "38     2551\n",
       "45     2495\n",
       "39     2330\n",
       "17     2249\n",
       "49     1941\n",
       "7      1777\n",
       "18     1429\n",
       "11     1020\n",
       "5       759\n",
       "26      746\n",
       "34      664\n",
       "36      354\n",
       "20      339\n",
       "32      332\n",
       "55      301\n",
       "19      268\n",
       "52      266\n",
       "31      244\n",
       "4       243\n",
       "35      221\n",
       "27      218\n",
       "23      211\n",
       "10      195\n",
       "3       182\n",
       "1       159\n",
       "28      154\n",
       "47      151\n",
       "9       142\n",
       "2       140\n",
       "29      106\n",
       "8       106\n",
       "53      106\n",
       "30       82\n",
       "50       79\n",
       "15       70\n",
       "54       68\n",
       "16       63\n",
       "33       40\n",
       "46       39\n",
       "42       36\n",
       "43       30\n",
       "6        30\n",
       "41       26\n",
       "25       25\n",
       "40       19\n",
       "13       19\n",
       "22       14\n",
       "21       14\n",
       "14       13\n",
       "24       12\n",
       "57        9\n",
       "56        9\n",
       "37        6\n",
       "51        1\n",
       "dtype: int64"
      ]
     },
     "execution_count": 42,
     "metadata": {},
     "output_type": "execute_result"
    }
   ],
   "source": [
    "pd.Series([token for doc in y_train_both for token in doc]).value_counts()"
   ]
  },
  {
   "cell_type": "code",
   "execution_count": 43,
   "metadata": {
    "colab": {
     "base_uri": "https://localhost:8080/"
    },
    "id": "eslmfF6Gt6zR",
    "outputId": "5aac7499-48e2-481b-c600-ef62aef7328f"
   },
   "outputs": [
    {
     "data": {
      "text/plain": [
       "в                4195\n",
       "и                1642\n",
       "на               1414\n",
       "год              1290\n",
       "с                 979\n",
       "по                881\n",
       "он                818\n",
       "быть              778\n",
       "что               711\n",
       "о                 533\n",
       "не                495\n",
       "который           490\n",
       "президент         393\n",
       "из                393\n",
       "свой              384\n",
       "это               377\n",
       "за                319\n",
       "россия            315\n",
       "стать             295\n",
       "к                 265\n",
       "от                254\n",
       "как               253\n",
       "тот               246\n",
       "после             242\n",
       "глава             241\n",
       "пост              217\n",
       "сша               217\n",
       "они               212\n",
       "а                 211\n",
       "первый            205\n",
       "этот              204\n",
       "новый             199\n",
       "один              194\n",
       "правительство     191\n",
       "для               185\n",
       "также             182\n",
       "она               177\n",
       "человек           176\n",
       "время             171\n",
       "российский        169\n",
       "до                163\n",
       "страна            160\n",
       "у                 158\n",
       "партия            157\n",
       "выборы            155\n",
       "рф                145\n",
       "область           138\n",
       "совет             137\n",
       "два               136\n",
       "министр           131\n",
       "dtype: int64"
      ]
     },
     "execution_count": 43,
     "metadata": {},
     "output_type": "execute_result"
    }
   ],
   "source": [
    "pd.Series([token for doc in X_train_lem for token in doc]).value_counts().head(50)"
   ]
  },
  {
   "cell_type": "code",
   "execution_count": 44,
   "metadata": {
    "colab": {
     "base_uri": "https://localhost:8080/"
    },
    "id": "F9_ZHwu5qJqg",
    "outputId": "2d4b3147-55a8-4fd0-e5b8-3e6734a7aacf"
   },
   "outputs": [
    {
     "data": {
      "text/plain": [
       "год              1290\n",
       "в                 577\n",
       "который           490\n",
       "президент         393\n",
       "свой              321\n",
       "россия            315\n",
       "стать             295\n",
       "глава             241\n",
       "пост              217\n",
       "сша               217\n",
       "первый            205\n",
       "новый             199\n",
       "по                198\n",
       "правительство     191\n",
       "также             182\n",
       "человек           176\n",
       "время             171\n",
       "российский        169\n",
       "это               161\n",
       "страна            160\n",
       "партия            157\n",
       "выборы            155\n",
       "рф                145\n",
       "он                138\n",
       "область           138\n",
       "совет             137\n",
       "один              131\n",
       "министр           131\n",
       "день              128\n",
       "отставка          123\n",
       "сообщить          121\n",
       "получить          120\n",
       "москва            119\n",
       "закон             117\n",
       "власть            113\n",
       "на                113\n",
       "являться          112\n",
       "о                 112\n",
       "назначить         112\n",
       "бывший            111\n",
       "однако            110\n",
       "владимир          109\n",
       "решение           108\n",
       "должность         106\n",
       "полиция           104\n",
       "компания          103\n",
       "мир               103\n",
       "место             102\n",
       "представитель     101\n",
       "заявить           101\n",
       "dtype: int64"
      ]
     },
     "execution_count": 44,
     "metadata": {},
     "output_type": "execute_result"
    }
   ],
   "source": [
    "pd.Series([token for doc in X_train_lem_stop for token in doc]).value_counts().head(50)"
   ]
  },
  {
   "cell_type": "markdown",
   "metadata": {
    "id": "8GSUj3xC-kko"
   },
   "source": [
    "# **TF-IDF**"
   ]
  },
  {
   "cell_type": "code",
   "execution_count": 45,
   "metadata": {
    "colab": {
     "base_uri": "https://localhost:8080/",
     "height": 423
    },
    "id": "aREKMqT6Q8Eh",
    "outputId": "0788d23d-9c47-43a9-aa5c-22b13e03b604"
   },
   "outputs": [
    {
     "data": {
      "text/html": [
       "<div>\n",
       "<style scoped>\n",
       "    .dataframe tbody tr th:only-of-type {\n",
       "        vertical-align: middle;\n",
       "    }\n",
       "\n",
       "    .dataframe tbody tr th {\n",
       "        vertical-align: top;\n",
       "    }\n",
       "\n",
       "    .dataframe thead th {\n",
       "        text-align: right;\n",
       "    }\n",
       "</style>\n",
       "<table border=\"1\" class=\"dataframe\">\n",
       "  <thead>\n",
       "    <tr style=\"text-align: right;\">\n",
       "      <th></th>\n",
       "      <th>index</th>\n",
       "      <th>sequences</th>\n",
       "      <th>ids</th>\n",
       "    </tr>\n",
       "  </thead>\n",
       "  <tbody>\n",
       "    <tr>\n",
       "      <th>0</th>\n",
       "      <td>0</td>\n",
       "      <td>[Виталий, Кличко, хочет, стать, мэром, Киева, ...</td>\n",
       "      <td>[44, 45, 0, 0, 48, 5, 0, 3, 4, 0, 0, 0, 0, 0, ...</td>\n",
       "    </tr>\n",
       "    <tr>\n",
       "      <th>1</th>\n",
       "      <td>1</td>\n",
       "      <td>[Я, хочу, стать, мэром, Киева, так, как, я, оч...</td>\n",
       "      <td>[0, 0, 0, 48, 5, 0, 0, 0, 0, 0, 0, 0, 0, 0, 0,...</td>\n",
       "    </tr>\n",
       "    <tr>\n",
       "      <th>2</th>\n",
       "      <td>2</td>\n",
       "      <td>[Виталий, Кличко, был, чемпионом, мира, по, ве...</td>\n",
       "      <td>[44, 45, 0, 3, 4, 0, 0, 38]</td>\n",
       "    </tr>\n",
       "    <tr>\n",
       "      <th>3</th>\n",
       "      <td>3</td>\n",
       "      <td>[преследовавших, его, травм, в, ноябре, 2005, ...</td>\n",
       "      <td>[0, 0, 0, 11, 12, 12, 12, 0, 0, 0, 48, 0, 0, 1...</td>\n",
       "    </tr>\n",
       "    <tr>\n",
       "      <th>4</th>\n",
       "      <td>4</td>\n",
       "      <td>[Подозреваемый, в, гибели, Марины, Голуб, Алек...</td>\n",
       "      <td>[0, 0, 17, 44, 45, 44, 45, 17, 0, 0, 0, 0, 11,...</td>\n",
       "    </tr>\n",
       "    <tr>\n",
       "      <th>...</th>\n",
       "      <td>...</td>\n",
       "      <td>...</td>\n",
       "      <td>...</td>\n",
       "    </tr>\n",
       "    <tr>\n",
       "      <th>2503</th>\n",
       "      <td>2503</td>\n",
       "      <td>[В, возрасте, 57, лет, Хулио, Иглесиас, стал, ...</td>\n",
       "      <td>[0, 0, 2, 1, 44, 45, 0, 0, 0, 0, 0, 44, 0, 0, ...</td>\n",
       "    </tr>\n",
       "    <tr>\n",
       "      <th>2504</th>\n",
       "      <td>2504</td>\n",
       "      <td>[Хулио, Иглесиас, один, из, самых, успешных, и...</td>\n",
       "      <td>[44, 45, 0, 0, 0, 0, 25, 48]</td>\n",
       "    </tr>\n",
       "    <tr>\n",
       "      <th>2505</th>\n",
       "      <td>2505</td>\n",
       "      <td>[Солистка, Ленинграда, Василиса, Старшова, объ...</td>\n",
       "      <td>[48, 38, 44, 45, 0, 0, 17, 18, 18, 0, 0, 38, 1...</td>\n",
       "    </tr>\n",
       "    <tr>\n",
       "      <th>2506</th>\n",
       "      <td>2506</td>\n",
       "      <td>[Спортинг, возглавил, Веркотерен, Стадион, Жоз...</td>\n",
       "      <td>[38, 17, 44, 0, 19, 20, 0, 0, 0, 0, 0, 38, 11,...</td>\n",
       "    </tr>\n",
       "    <tr>\n",
       "      <th>2507</th>\n",
       "      <td>2507</td>\n",
       "      <td>[Франк, Веркотерен, тренировал, клубы, Генк, и...</td>\n",
       "      <td>[44, 45, 0, 0, 38, 0, 5, 38, 0, 0, 0, 34, 0, 0...</td>\n",
       "    </tr>\n",
       "  </tbody>\n",
       "</table>\n",
       "<p>2508 rows × 3 columns</p>\n",
       "</div>"
      ],
      "text/plain": [
       "      index                                          sequences  \\\n",
       "0         0  [Виталий, Кличко, хочет, стать, мэром, Киева, ...   \n",
       "1         1  [Я, хочу, стать, мэром, Киева, так, как, я, оч...   \n",
       "2         2  [Виталий, Кличко, был, чемпионом, мира, по, ве...   \n",
       "3         3  [преследовавших, его, травм, в, ноябре, 2005, ...   \n",
       "4         4  [Подозреваемый, в, гибели, Марины, Голуб, Алек...   \n",
       "...     ...                                                ...   \n",
       "2503   2503  [В, возрасте, 57, лет, Хулио, Иглесиас, стал, ...   \n",
       "2504   2504  [Хулио, Иглесиас, один, из, самых, успешных, и...   \n",
       "2505   2505  [Солистка, Ленинграда, Василиса, Старшова, объ...   \n",
       "2506   2506  [Спортинг, возглавил, Веркотерен, Стадион, Жоз...   \n",
       "2507   2507  [Франк, Веркотерен, тренировал, клубы, Генк, и...   \n",
       "\n",
       "                                                    ids  \n",
       "0     [44, 45, 0, 0, 48, 5, 0, 3, 4, 0, 0, 0, 0, 0, ...  \n",
       "1     [0, 0, 0, 48, 5, 0, 0, 0, 0, 0, 0, 0, 0, 0, 0,...  \n",
       "2                           [44, 45, 0, 3, 4, 0, 0, 38]  \n",
       "3     [0, 0, 0, 11, 12, 12, 12, 0, 0, 0, 48, 0, 0, 1...  \n",
       "4     [0, 0, 17, 44, 45, 44, 45, 17, 0, 0, 0, 0, 11,...  \n",
       "...                                                 ...  \n",
       "2503  [0, 0, 2, 1, 44, 45, 0, 0, 0, 0, 0, 44, 0, 0, ...  \n",
       "2504                       [44, 45, 0, 0, 0, 0, 25, 48]  \n",
       "2505  [48, 38, 44, 45, 0, 0, 17, 18, 18, 0, 0, 38, 1...  \n",
       "2506  [38, 17, 44, 0, 19, 20, 0, 0, 0, 0, 0, 38, 11,...  \n",
       "2507  [44, 45, 0, 0, 38, 0, 5, 38, 0, 0, 0, 34, 0, 0...  \n",
       "\n",
       "[2508 rows x 3 columns]"
      ]
     },
     "execution_count": 45,
     "metadata": {},
     "output_type": "execute_result"
    }
   ],
   "source": [
    "from os import name\n",
    "df = dataset['train'].to_pandas().reset_index()\n",
    "df"
   ]
  },
  {
   "cell_type": "code",
   "execution_count": 46,
   "metadata": {
    "colab": {
     "base_uri": "https://localhost:8080/",
     "height": 423
    },
    "id": "ALdePyc0_Qr_",
    "outputId": "86227334-ecd4-4116-a9d7-c765f58a2002"
   },
   "outputs": [
    {
     "data": {
      "text/html": [
       "<div>\n",
       "<style scoped>\n",
       "    .dataframe tbody tr th:only-of-type {\n",
       "        vertical-align: middle;\n",
       "    }\n",
       "\n",
       "    .dataframe tbody tr th {\n",
       "        vertical-align: top;\n",
       "    }\n",
       "\n",
       "    .dataframe thead th {\n",
       "        text-align: right;\n",
       "    }\n",
       "</style>\n",
       "<table border=\"1\" class=\"dataframe\">\n",
       "  <thead>\n",
       "    <tr style=\"text-align: right;\">\n",
       "      <th></th>\n",
       "      <th>doc</th>\n",
       "      <th>token</th>\n",
       "      <th>label</th>\n",
       "    </tr>\n",
       "  </thead>\n",
       "  <tbody>\n",
       "    <tr>\n",
       "      <th>0</th>\n",
       "      <td>0</td>\n",
       "      <td>Виталий</td>\n",
       "      <td>44</td>\n",
       "    </tr>\n",
       "    <tr>\n",
       "      <th>1</th>\n",
       "      <td>0</td>\n",
       "      <td>Кличко</td>\n",
       "      <td>45</td>\n",
       "    </tr>\n",
       "    <tr>\n",
       "      <th>2</th>\n",
       "      <td>0</td>\n",
       "      <td>хочет</td>\n",
       "      <td>0</td>\n",
       "    </tr>\n",
       "    <tr>\n",
       "      <th>3</th>\n",
       "      <td>0</td>\n",
       "      <td>стать</td>\n",
       "      <td>0</td>\n",
       "    </tr>\n",
       "    <tr>\n",
       "      <th>4</th>\n",
       "      <td>0</td>\n",
       "      <td>мэром</td>\n",
       "      <td>48</td>\n",
       "    </tr>\n",
       "    <tr>\n",
       "      <th>...</th>\n",
       "      <td>...</td>\n",
       "      <td>...</td>\n",
       "      <td>...</td>\n",
       "    </tr>\n",
       "    <tr>\n",
       "      <th>81067</th>\n",
       "      <td>2507</td>\n",
       "      <td>к</td>\n",
       "      <td>0</td>\n",
       "    </tr>\n",
       "    <tr>\n",
       "      <th>81068</th>\n",
       "      <td>2507</td>\n",
       "      <td>победе</td>\n",
       "      <td>0</td>\n",
       "    </tr>\n",
       "    <tr>\n",
       "      <th>81069</th>\n",
       "      <td>2507</td>\n",
       "      <td>в</td>\n",
       "      <td>0</td>\n",
       "    </tr>\n",
       "    <tr>\n",
       "      <th>81070</th>\n",
       "      <td>2507</td>\n",
       "      <td>чемпионате</td>\n",
       "      <td>17</td>\n",
       "    </tr>\n",
       "    <tr>\n",
       "      <th>81071</th>\n",
       "      <td>2507</td>\n",
       "      <td>Бельгии</td>\n",
       "      <td>7</td>\n",
       "    </tr>\n",
       "  </tbody>\n",
       "</table>\n",
       "<p>81072 rows × 3 columns</p>\n",
       "</div>"
      ],
      "text/plain": [
       "        doc       token  label\n",
       "0         0     Виталий     44\n",
       "1         0      Кличко     45\n",
       "2         0       хочет      0\n",
       "3         0       стать      0\n",
       "4         0       мэром     48\n",
       "...     ...         ...    ...\n",
       "81067  2507           к      0\n",
       "81068  2507      победе      0\n",
       "81069  2507           в      0\n",
       "81070  2507  чемпионате     17\n",
       "81071  2507     Бельгии      7\n",
       "\n",
       "[81072 rows x 3 columns]"
      ]
     },
     "execution_count": 46,
     "metadata": {},
     "output_type": "execute_result"
    }
   ],
   "source": [
    "df = pd.DataFrame({'doc': df.index.repeat(df.sequences.str.len()), \n",
    "              'token': np.concatenate(df.sequences.values), \n",
    "              'label': np.concatenate(df.ids.values) })\n",
    "df"
   ]
  },
  {
   "cell_type": "code",
   "execution_count": 48,
   "metadata": {
    "id": "PD890BfZ-B8X"
   },
   "outputs": [
    {
     "data": {
      "text/plain": [
       "((54318, 21611), (54318,))"
      ]
     },
     "execution_count": 48,
     "metadata": {},
     "output_type": "execute_result"
    }
   ],
   "source": [
    "X = df.drop(['label', 'doc'], axis=1)\n",
    "v = DictVectorizer(sparse=False)\n",
    "X = v.fit_transform(X.to_dict('records'))\n",
    "y = df.label.values\n",
    "\n",
    "classes = np.unique(y)\n",
    "classes = classes.tolist()\n",
    "\n",
    "X_train, X_test, y_train, y_test = train_test_split(X, y, test_size = 0.33, random_state=0)\n",
    "X_train.shape, y_train.shape"
   ]
  },
  {
   "cell_type": "code",
   "execution_count": 58,
   "metadata": {},
   "outputs": [
    {
     "name": "stderr",
     "output_type": "stream",
     "text": [
      "C:\\Users\\manen\\anaconda3\\lib\\site-packages\\sklearn\\linear_model\\_logistic.py:814: ConvergenceWarning: lbfgs failed to converge (status=1):\n",
      "STOP: TOTAL NO. of ITERATIONS REACHED LIMIT.\n",
      "\n",
      "Increase the number of iterations (max_iter) or scale the data as shown in:\n",
      "    https://scikit-learn.org/stable/modules/preprocessing.html\n",
      "Please also refer to the documentation for alternative solver options:\n",
      "    https://scikit-learn.org/stable/modules/linear_model.html#logistic-regression\n",
      "  n_iter_i = _check_optimize_result(\n"
     ]
    },
    {
     "name": "stdout",
     "output_type": "stream",
     "text": [
      "R-квадрат на обучающем наборе: 0.71\n",
      "R-квадрат на тестовом наборе: 0.68\n",
      "Wall time: 4min 30s\n"
     ]
    }
   ],
   "source": [
    "%%time\n",
    "lr = LogisticRegression()\n",
    "lr = lr.fit(X_train, y_train)\n",
    "\n",
    "print(\"R-квадрат на обучающем наборе: {:.2f}\".format(lr.score(X_train, y_train)))\n",
    "print(\"R-квадрат на тестовом наборе: {:.2f}\".format(lr.score(X_test, y_test)))"
   ]
  },
  {
   "cell_type": "code",
   "execution_count": 61,
   "metadata": {},
   "outputs": [
    {
     "data": {
      "text/plain": [
       "array([ 0,  0,  0,  0,  0,  0, 12,  0,  0,  0,  0,  0,  0,  0,  0,  0, 44,\n",
       "        0,  0, 17,  0, 44, 38,  0,  0,  0,  0,  0,  0,  0,  0, 38,  0,  0,\n",
       "        0,  0,  0,  7,  0,  0,  0, 48,  0,  0, 12,  0,  0,  0,  0, 48,  0,\n",
       "       31,  0,  0,  0,  0,  0,  0,  0,  0,  0,  0,  0,  0, 48,  0,  0,  0,\n",
       "        0,  0,  0,  0,  0,  0,  0,  0,  0, 11,  0,  0,  0,  0,  0,  0, 44,\n",
       "        0, 12,  0, 38, 38,  0,  7, 34,  0,  0,  0,  0,  0,  0, 48,  0,  0,\n",
       "        0, 38,  0,  0,  0,  0,  0,  0,  0,  0,  0,  0,  0,  0, 48,  0, 49,\n",
       "        0,  0,  0,  0,  0,  0,  0, 38,  0,  0,  0,  0,  0, 34, 31,  0,  0,\n",
       "        0, 44,  0,  0,  0,  0,  0,  0,  0,  0, 44,  0, 38,  0,  0,  0,  0,\n",
       "        0,  0,  0,  0, 38,  0,  0,  0,  0,  0,  0, 12,  0,  0,  0,  0,  0,\n",
       "        0,  0,  0,  0,  0, 48,  0,  0,  0,  0, 12,  0,  0,  0,  0,  0,  0,\n",
       "        0,  0, 11,  0, 12, 12,  0,  0,  0,  0,  0,  0,  0], dtype=int64)"
      ]
     },
     "execution_count": 61,
     "metadata": {},
     "output_type": "execute_result"
    }
   ],
   "source": [
    "lr.predict(X_test)[:200]"
   ]
  },
  {
   "cell_type": "code",
   "execution_count": 62,
   "metadata": {},
   "outputs": [
    {
     "data": {
      "text/plain": [
       "array([ 0, 45,  0, 35, 11,  0, 12, 44,  0, 45, 39,  0,  0, 45,  0,  0, 44,\n",
       "        0, 11, 17, 10, 45, 49,  0, 49,  0, 12,  0, 45, 24, 39, 38, 44,  0,\n",
       "        0,  0, 38,  7,  0,  0,  0, 48,  0,  0, 11,  0,  0,  0,  0, 48,  7,\n",
       "       31, 10,  0, 44,  0, 42,  0, 45,  7,  0, 44,  0,  5, 48,  0,  0, 17,\n",
       "        0,  0, 32,  0,  0, 39,  0,  0, 48, 34, 12,  3, 30,  0,  0, 49, 44,\n",
       "        0, 12,  0, 38, 49, 44, 33,  0, 44,  0,  0,  0,  0,  0, 48,  0,  0,\n",
       "        0, 38,  0,  0,  0,  0, 45,  0,  0,  0,  0, 26,  0,  0, 48,  0, 49,\n",
       "        0,  0, 38,  0, 38,  0,  0, 49,  0,  0, 12,  0,  0, 11, 31,  0, 45,\n",
       "        0, 44,  0, 11, 31,  0,  0,  0,  0,  0, 44,  0, 49, 45,  0,  0, 18,\n",
       "       44,  0, 49,  0, 38,  0,  0,  0,  0, 34,  0, 12, 11, 38,  0,  0,  0,\n",
       "        0,  0, 38,  0,  0, 48, 38,  0,  0, 11, 12,  0,  0, 15,  0, 39,  0,\n",
       "        0,  0,  2, 26, 12, 12,  0,  0,  0,  0,  0, 18,  0], dtype=int64)"
      ]
     },
     "execution_count": 62,
     "metadata": {},
     "output_type": "execute_result"
    }
   ],
   "source": [
    "y_test[:200]"
   ]
  },
  {
   "cell_type": "code",
   "execution_count": null,
   "metadata": {},
   "outputs": [],
   "source": []
  }
 ],
 "metadata": {
  "accelerator": "GPU",
  "colab": {
   "collapsed_sections": [],
   "name": "NLP.ipynb",
   "provenance": []
  },
  "kernelspec": {
   "display_name": "Python 3",
   "language": "python",
   "name": "python3"
  },
  "language_info": {
   "codemirror_mode": {
    "name": "ipython",
    "version": 3
   },
   "file_extension": ".py",
   "mimetype": "text/x-python",
   "name": "python",
   "nbconvert_exporter": "python",
   "pygments_lexer": "ipython3",
   "version": "3.8.5"
  },
  "widgets": {
   "application/vnd.jupyter.widget-state+json": {
    "1d0f94fe5ec840c188b442337f89e98d": {
     "model_module": "@jupyter-widgets/controls",
     "model_module_version": "1.5.0",
     "model_name": "HTMLModel",
     "state": {
      "_dom_classes": [],
      "_model_module": "@jupyter-widgets/controls",
      "_model_module_version": "1.5.0",
      "_model_name": "HTMLModel",
      "_view_count": null,
      "_view_module": "@jupyter-widgets/controls",
      "_view_module_version": "1.5.0",
      "_view_name": "HTMLView",
      "description": "",
      "description_tooltip": null,
      "layout": "IPY_MODEL_e85636e8d9cc4dcca54836a6ecc780ea",
      "placeholder": "​",
      "style": "IPY_MODEL_454f4971acfa4e7ea35bac36829d8b7e",
      "value": " 3/3 [00:00&lt;00:00,  8.99it/s]"
     }
    },
    "454f4971acfa4e7ea35bac36829d8b7e": {
     "model_module": "@jupyter-widgets/controls",
     "model_module_version": "1.5.0",
     "model_name": "DescriptionStyleModel",
     "state": {
      "_model_module": "@jupyter-widgets/controls",
      "_model_module_version": "1.5.0",
      "_model_name": "DescriptionStyleModel",
      "_view_count": null,
      "_view_module": "@jupyter-widgets/base",
      "_view_module_version": "1.2.0",
      "_view_name": "StyleView",
      "description_width": ""
     }
    },
    "4a03e9ca96cc4736ad7491e4c96290b0": {
     "model_module": "@jupyter-widgets/base",
     "model_module_version": "1.2.0",
     "model_name": "LayoutModel",
     "state": {
      "_model_module": "@jupyter-widgets/base",
      "_model_module_version": "1.2.0",
      "_model_name": "LayoutModel",
      "_view_count": null,
      "_view_module": "@jupyter-widgets/base",
      "_view_module_version": "1.2.0",
      "_view_name": "LayoutView",
      "align_content": null,
      "align_items": null,
      "align_self": null,
      "border": null,
      "bottom": null,
      "display": null,
      "flex": null,
      "flex_flow": null,
      "grid_area": null,
      "grid_auto_columns": null,
      "grid_auto_flow": null,
      "grid_auto_rows": null,
      "grid_column": null,
      "grid_gap": null,
      "grid_row": null,
      "grid_template_areas": null,
      "grid_template_columns": null,
      "grid_template_rows": null,
      "height": null,
      "justify_content": null,
      "justify_items": null,
      "left": null,
      "margin": null,
      "max_height": null,
      "max_width": null,
      "min_height": null,
      "min_width": null,
      "object_fit": null,
      "object_position": null,
      "order": null,
      "overflow": null,
      "overflow_x": null,
      "overflow_y": null,
      "padding": null,
      "right": null,
      "top": null,
      "visibility": null,
      "width": null
     }
    },
    "4babfc4972d64f90b92443b84360ae93": {
     "model_module": "@jupyter-widgets/controls",
     "model_module_version": "1.5.0",
     "model_name": "FloatProgressModel",
     "state": {
      "_dom_classes": [],
      "_model_module": "@jupyter-widgets/controls",
      "_model_module_version": "1.5.0",
      "_model_name": "FloatProgressModel",
      "_view_count": null,
      "_view_module": "@jupyter-widgets/controls",
      "_view_module_version": "1.5.0",
      "_view_name": "ProgressView",
      "bar_style": "success",
      "description": "",
      "description_tooltip": null,
      "layout": "IPY_MODEL_c26902f29f754af4bc18930d4f250394",
      "max": 3,
      "min": 0,
      "orientation": "horizontal",
      "style": "IPY_MODEL_e3f97b57942e4d64be75a27763431203",
      "value": 3
     }
    },
    "bc3bbadad40645a59ba705380ccd4556": {
     "model_module": "@jupyter-widgets/controls",
     "model_module_version": "1.5.0",
     "model_name": "HBoxModel",
     "state": {
      "_dom_classes": [],
      "_model_module": "@jupyter-widgets/controls",
      "_model_module_version": "1.5.0",
      "_model_name": "HBoxModel",
      "_view_count": null,
      "_view_module": "@jupyter-widgets/controls",
      "_view_module_version": "1.5.0",
      "_view_name": "HBoxView",
      "box_style": "",
      "children": [
       "IPY_MODEL_ccc4c7b7daad4b2b8d0c07c58890edd6",
       "IPY_MODEL_4babfc4972d64f90b92443b84360ae93",
       "IPY_MODEL_1d0f94fe5ec840c188b442337f89e98d"
      ],
      "layout": "IPY_MODEL_4a03e9ca96cc4736ad7491e4c96290b0"
     }
    },
    "be60cd0e3ea5447b98766b68b154c878": {
     "model_module": "@jupyter-widgets/controls",
     "model_module_version": "1.5.0",
     "model_name": "DescriptionStyleModel",
     "state": {
      "_model_module": "@jupyter-widgets/controls",
      "_model_module_version": "1.5.0",
      "_model_name": "DescriptionStyleModel",
      "_view_count": null,
      "_view_module": "@jupyter-widgets/base",
      "_view_module_version": "1.2.0",
      "_view_name": "StyleView",
      "description_width": ""
     }
    },
    "c26902f29f754af4bc18930d4f250394": {
     "model_module": "@jupyter-widgets/base",
     "model_module_version": "1.2.0",
     "model_name": "LayoutModel",
     "state": {
      "_model_module": "@jupyter-widgets/base",
      "_model_module_version": "1.2.0",
      "_model_name": "LayoutModel",
      "_view_count": null,
      "_view_module": "@jupyter-widgets/base",
      "_view_module_version": "1.2.0",
      "_view_name": "LayoutView",
      "align_content": null,
      "align_items": null,
      "align_self": null,
      "border": null,
      "bottom": null,
      "display": null,
      "flex": null,
      "flex_flow": null,
      "grid_area": null,
      "grid_auto_columns": null,
      "grid_auto_flow": null,
      "grid_auto_rows": null,
      "grid_column": null,
      "grid_gap": null,
      "grid_row": null,
      "grid_template_areas": null,
      "grid_template_columns": null,
      "grid_template_rows": null,
      "height": null,
      "justify_content": null,
      "justify_items": null,
      "left": null,
      "margin": null,
      "max_height": null,
      "max_width": null,
      "min_height": null,
      "min_width": null,
      "object_fit": null,
      "object_position": null,
      "order": null,
      "overflow": null,
      "overflow_x": null,
      "overflow_y": null,
      "padding": null,
      "right": null,
      "top": null,
      "visibility": null,
      "width": null
     }
    },
    "ccc4c7b7daad4b2b8d0c07c58890edd6": {
     "model_module": "@jupyter-widgets/controls",
     "model_module_version": "1.5.0",
     "model_name": "HTMLModel",
     "state": {
      "_dom_classes": [],
      "_model_module": "@jupyter-widgets/controls",
      "_model_module_version": "1.5.0",
      "_model_name": "HTMLModel",
      "_view_count": null,
      "_view_module": "@jupyter-widgets/controls",
      "_view_module_version": "1.5.0",
      "_view_name": "HTMLView",
      "description": "",
      "description_tooltip": null,
      "layout": "IPY_MODEL_f5774bb300c942c7a0b60e31adc4c271",
      "placeholder": "​",
      "style": "IPY_MODEL_be60cd0e3ea5447b98766b68b154c878",
      "value": "100%"
     }
    },
    "e3f97b57942e4d64be75a27763431203": {
     "model_module": "@jupyter-widgets/controls",
     "model_module_version": "1.5.0",
     "model_name": "ProgressStyleModel",
     "state": {
      "_model_module": "@jupyter-widgets/controls",
      "_model_module_version": "1.5.0",
      "_model_name": "ProgressStyleModel",
      "_view_count": null,
      "_view_module": "@jupyter-widgets/base",
      "_view_module_version": "1.2.0",
      "_view_name": "StyleView",
      "bar_color": null,
      "description_width": ""
     }
    },
    "e85636e8d9cc4dcca54836a6ecc780ea": {
     "model_module": "@jupyter-widgets/base",
     "model_module_version": "1.2.0",
     "model_name": "LayoutModel",
     "state": {
      "_model_module": "@jupyter-widgets/base",
      "_model_module_version": "1.2.0",
      "_model_name": "LayoutModel",
      "_view_count": null,
      "_view_module": "@jupyter-widgets/base",
      "_view_module_version": "1.2.0",
      "_view_name": "LayoutView",
      "align_content": null,
      "align_items": null,
      "align_self": null,
      "border": null,
      "bottom": null,
      "display": null,
      "flex": null,
      "flex_flow": null,
      "grid_area": null,
      "grid_auto_columns": null,
      "grid_auto_flow": null,
      "grid_auto_rows": null,
      "grid_column": null,
      "grid_gap": null,
      "grid_row": null,
      "grid_template_areas": null,
      "grid_template_columns": null,
      "grid_template_rows": null,
      "height": null,
      "justify_content": null,
      "justify_items": null,
      "left": null,
      "margin": null,
      "max_height": null,
      "max_width": null,
      "min_height": null,
      "min_width": null,
      "object_fit": null,
      "object_position": null,
      "order": null,
      "overflow": null,
      "overflow_x": null,
      "overflow_y": null,
      "padding": null,
      "right": null,
      "top": null,
      "visibility": null,
      "width": null
     }
    },
    "f5774bb300c942c7a0b60e31adc4c271": {
     "model_module": "@jupyter-widgets/base",
     "model_module_version": "1.2.0",
     "model_name": "LayoutModel",
     "state": {
      "_model_module": "@jupyter-widgets/base",
      "_model_module_version": "1.2.0",
      "_model_name": "LayoutModel",
      "_view_count": null,
      "_view_module": "@jupyter-widgets/base",
      "_view_module_version": "1.2.0",
      "_view_name": "LayoutView",
      "align_content": null,
      "align_items": null,
      "align_self": null,
      "border": null,
      "bottom": null,
      "display": null,
      "flex": null,
      "flex_flow": null,
      "grid_area": null,
      "grid_auto_columns": null,
      "grid_auto_flow": null,
      "grid_auto_rows": null,
      "grid_column": null,
      "grid_gap": null,
      "grid_row": null,
      "grid_template_areas": null,
      "grid_template_columns": null,
      "grid_template_rows": null,
      "height": null,
      "justify_content": null,
      "justify_items": null,
      "left": null,
      "margin": null,
      "max_height": null,
      "max_width": null,
      "min_height": null,
      "min_width": null,
      "object_fit": null,
      "object_position": null,
      "order": null,
      "overflow": null,
      "overflow_x": null,
      "overflow_y": null,
      "padding": null,
      "right": null,
      "top": null,
      "visibility": null,
      "width": null
     }
    }
   }
  }
 },
 "nbformat": 4,
 "nbformat_minor": 1
}
